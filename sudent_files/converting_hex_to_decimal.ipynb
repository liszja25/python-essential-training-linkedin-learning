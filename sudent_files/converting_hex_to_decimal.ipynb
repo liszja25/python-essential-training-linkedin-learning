{
 "cells": [
  {
   "cell_type": "markdown",
   "metadata": {},
   "source": [
    "# Converting Hexadecimal to Decimal\n",
    "Hexadecimal or \"base 16\" uses all of the numbers 0 - 9, plus a few others to signify higher numbers:\n",
    "\n",
    "A = 10\n",
    "\n",
    "B = 11\n",
    "\n",
    "C = 12\n",
    "\n",
    "D = 13\n",
    "\n",
    "E = 14\n",
    "\n",
    "F = 15\n",
    "\n",
    "Therefore, the number 'D' in hexadecimal would be 13 in decimal.\n",
    "\n",
    "The number '1A' in hexadecimal would be 26 in decimal. Just like we have the \"tens\" place in base 10, hexadecimal has the \"sixteens\" place. So 1A would be 16 + 10 or 26.\n",
    "\n",
    "And just like decimal has the \"hundreds\" place (because 10 * 10 is 100), hexadecimal has the \"256's\" place (because 16 * 16 is 256) So 'ABC' in hexadecimal is (256 * 10) + (16 * 11) + (1 * 12) or 2,748\n",
    "\n",
    "**Your Task:** Write a function to convert a hexadecimal string (up to three characters long) into a decimal integer. Do **not** use the Python function *int(hexNum, 16)* to do this. Write your own function"
   ]
  },
  {
   "cell_type": "code",
   "execution_count": null,
   "metadata": {},
   "outputs": [],
   "source": [
    "hexNumbers = {\n",
    "    '0': 0, '1': 1, '2': 2, '3': 3, '4': 4, '5': 5, '6': 6, '7': 7, '8': 8, '9': 9,\n",
    "    'A': 10, 'B': 11, 'C': 12, 'D': 13, 'E': 14, 'F': 15\n",
    "}\n",
    "\n",
    "# Converts a string hexadecimal number into an integer decimal\n",
    "# If hexNum is not a valid hexadecimal number, returns None\n",
    "def hexToDec(hexNum:str):\n",
    "    numLength = len(hexNum)\n",
    "    \n",
    "    #Verify a value was passed\n",
    "    if numLength <= 0:\n",
    "        print(\"Error: Invalid Input\")\n",
    "        return None\n",
    "\n",
    "    #Verify hexidecumal number length is less than 3 characters\n",
    "    if numLength > 3:\n",
    "        print(\"Error: This Python program can only evaluate hexidecimal numbers upto three characters long\")\n",
    "        return None\n",
    "    \n",
    "    #Verify each character is a valid hexidecimal number\n",
    "    for i in range(numLength):\n",
    "        if hexNum[i] not in hexNumbers:\n",
    "            print(\"Error: Number is not a valid hexidecimal number\")\n",
    "            return None\n",
    "        i = i+1\n",
    "\n",
    "    if numLength == 1:\n",
    "        return hexNumbers[hexNum]\n",
    "    if numLength == 2:\n",
    "        return (hexNumbers[hexNum[0]]*16)+(hexNumbers[hexNum[1]])\n",
    "    if numLength == 3:\n",
    "        return (hexNumbers[hexNum[0]]*256)+(hexNumbers[hexNum[1]]*16)+(hexNumbers[hexNum[2]])\n"
   ]
  },
  {
   "cell_type": "code",
   "execution_count": 43,
   "metadata": {},
   "outputs": [
    {
     "data": {
      "text/plain": [
       "3243"
      ]
     },
     "execution_count": 43,
     "metadata": {},
     "output_type": "execute_result"
    }
   ],
   "source": [
    "hexToDec('CAB')"
   ]
  }
 ],
 "metadata": {
  "kernelspec": {
   "display_name": "Python 3",
   "language": "python",
   "name": "python3"
  },
  "language_info": {
   "codemirror_mode": {
    "name": "ipython",
    "version": 3
   },
   "file_extension": ".py",
   "mimetype": "text/x-python",
   "name": "python",
   "nbconvert_exporter": "python",
   "pygments_lexer": "ipython3",
   "version": "3.12.1"
  }
 },
 "nbformat": 4,
 "nbformat_minor": 2
}

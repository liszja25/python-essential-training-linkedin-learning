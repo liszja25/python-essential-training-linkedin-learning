{
 "cells": [
  {
   "cell_type": "markdown",
   "id": "6a6c3649",
   "metadata": {},
   "source": [
    "## ASCII Art Encoding\n",
    "\n",
    "Write a function \"encodeString\" that will encode a string like 'AAAAABBBBAAA' as a list of tuples: [('A', 5), ('B', 4), ('A', 3)] meaning that the string has \"5 A's, followed by 4 B's, followed by 3 A's\"\n",
    "\n",
    "Then use that function to compress a string containing \"ASCII Art\" (https://en.wikipedia.org/wiki/ASCII_art)\n",
    "\n",
    "Write a corresponding function \"decodeString\" that will take in a list of tuples and print the original string.\n"
   ]
  },
  {
   "cell_type": "code",
   "execution_count": 3,
   "id": "17c80a9b",
   "metadata": {},
   "outputs": [],
   "source": [
    "testString = \"AAAAABBBBAAA\""
   ]
  },
  {
   "cell_type": "code",
   "execution_count": 28,
   "id": "7777d38e",
   "metadata": {},
   "outputs": [],
   "source": [
    "def encodeString(stringVal):\n",
    "    encodedString = []\n",
    "    previousChar = stringVal[0]\n",
    "    count = 0\n",
    "    for char in stringVal:\n",
    "        if previousChar != char:\n",
    "            encodedString.append((previousChar,count))\n",
    "            count = 0\n",
    "        previousChar = char\n",
    "        count = count + 1\n",
    "    encodedString.append((previousChar,count))\n",
    "    return encodedString\n",
    "\n",
    "def decodeString(encodedList):\n",
    "    decodedString = \"\"\n",
    "    for item in encodedList:\n",
    "        decodedString = decodedString + item[0] * item[1]\n",
    "    \n",
    "    return decodedString\n"
   ]
  },
  {
   "cell_type": "code",
   "execution_count": 40,
   "id": "997da749",
   "metadata": {},
   "outputs": [
    {
     "name": "stdout",
     "output_type": "stream",
     "text": [
      "[('A', 5), ('B', 4), ('A', 3)]\n"
     ]
    },
    {
     "data": {
      "text/plain": [
       "'AAAAABBBBAAA'"
      ]
     },
     "execution_count": 40,
     "metadata": {},
     "output_type": "execute_result"
    }
   ],
   "source": [
    "encodedString = encodeString(testString)\n",
    "print(encodedString)\n",
    "decodeString(encodedString)"
   ]
  },
  {
   "cell_type": "code",
   "execution_count": 34,
   "id": "3eee6256",
   "metadata": {},
   "outputs": [],
   "source": [
    "art = '''                                                                                \n",
    "                               %%%%%%%%%%%%%%%%%%%                              \n",
    "                        %%%%%%%%%%%%%%%%%%%%%%%%%%%%%%%%%                       \n",
    "                    %%%%%%%%                         %%%%%%%%                   \n",
    "                %%%%%%%                                   %%%%%%                \n",
    "              %%%%%%                                         %%%%%%             \n",
    "           %%%%%%                                               %%%%%           \n",
    "          %%%%%                                                   %%%%%         \n",
    "        %%%%%                                                       %%%%%       \n",
    "       %%%%                 %%%%%              %%%%%                  %%%%      \n",
    "      %%%%                 %%%%%%%            %%%%%%%                  %%%%     \n",
    "     %%%%                  %%%%%%%            %%%%%%%                   %%%%    \n",
    "    %%%%                   %%%%%%%            %%%%%%%                    %%%%   \n",
    "    %%%%                    %%%%%              %%%%%                     %%%%   \n",
    "   %%%%                                                                   %%%%  \n",
    "   %%%%                                                                   %%%%  \n",
    "   %%%%                                                                   %%%%  \n",
    "   %%%%                                                      %%%%        %%%%   \n",
    "    %%%%       %%%%%%                                        %%%%%       %%%%   \n",
    "    %%%%         %%%%                                       %%%%        %%%%    \n",
    "     %%%%         %%%%                                     %%%%         %%%%    \n",
    "      %%%%         %%%%%                                  %%%%         %%%%     \n",
    "       %%%%%         %%%%%                             %%%%%         %%%%%      \n",
    "        %%%%%          %%%%%%                        %%%%%          %%%%        \n",
    "          %%%%%           %%%%%%%               %%%%%%%           %%%%%         \n",
    "            %%%%%             %%%%%%%%%%%%%%%%%%%%%             %%%%%           \n",
    "              %%%%%%%                                        %%%%%              \n",
    "                 %%%%%%%                                 %%%%%%%                \n",
    "                     %%%%%%%%%                     %%%%%%%%%                    \n",
    "                          %%%%%%%%%%%%%%%%%%%%%%%%%%%%%                         \n",
    "                                   %%%%%%%%%%%%                                 \n",
    "'''"
   ]
  },
  {
   "cell_type": "code",
   "execution_count": 39,
   "id": "dec27033",
   "metadata": {},
   "outputs": [
    {
     "name": "stdout",
     "output_type": "stream",
     "text": [
      "[(' ', 80), ('\\n', 1), (' ', 31), ('%', 19), (' ', 30), ('\\n', 1), (' ', 24), ('%', 33), (' ', 23), ('\\n', 1), (' ', 20), ('%', 8), (' ', 25), ('%', 8), (' ', 19), ('\\n', 1), (' ', 16), ('%', 7), (' ', 35), ('%', 6), (' ', 16), ('\\n', 1), (' ', 14), ('%', 6), (' ', 41), ('%', 6), (' ', 13), ('\\n', 1), (' ', 11), ('%', 6), (' ', 47), ('%', 5), (' ', 11), ('\\n', 1), (' ', 10), ('%', 5), (' ', 51), ('%', 5), (' ', 9), ('\\n', 1), (' ', 8), ('%', 5), (' ', 55), ('%', 5), (' ', 7), ('\\n', 1), (' ', 7), ('%', 4), (' ', 17), ('%', 5), (' ', 14), ('%', 5), (' ', 18), ('%', 4), (' ', 6), ('\\n', 1), (' ', 6), ('%', 4), (' ', 17), ('%', 7), (' ', 12), ('%', 7), (' ', 18), ('%', 4), (' ', 5), ('\\n', 1), (' ', 5), ('%', 4), (' ', 18), ('%', 7), (' ', 12), ('%', 7), (' ', 19), ('%', 4), (' ', 4), ('\\n', 1), (' ', 4), ('%', 4), (' ', 19), ('%', 7), (' ', 12), ('%', 7), (' ', 20), ('%', 4), (' ', 3), ('\\n', 1), (' ', 4), ('%', 4), (' ', 20), ('%', 5), (' ', 14), ('%', 5), (' ', 21), ('%', 4), (' ', 3), ('\\n', 1), (' ', 3), ('%', 4), (' ', 67), ('%', 4), (' ', 2), ('\\n', 1), (' ', 3), ('%', 4), (' ', 67), ('%', 4), (' ', 2), ('\\n', 1), (' ', 3), ('%', 4), (' ', 67), ('%', 4), (' ', 2), ('\\n', 1), (' ', 3), ('%', 4), (' ', 54), ('%', 4), (' ', 8), ('%', 4), (' ', 3), ('\\n', 1), (' ', 4), ('%', 4), (' ', 7), ('%', 6), (' ', 40), ('%', 5), (' ', 7), ('%', 4), (' ', 3), ('\\n', 1), (' ', 4), ('%', 4), (' ', 9), ('%', 4), (' ', 39), ('%', 4), (' ', 8), ('%', 4), (' ', 4), ('\\n', 1), (' ', 5), ('%', 4), (' ', 9), ('%', 4), (' ', 37), ('%', 4), (' ', 9), ('%', 4), (' ', 4), ('\\n', 1), (' ', 6), ('%', 4), (' ', 9), ('%', 5), (' ', 34), ('%', 4), (' ', 9), ('%', 4), (' ', 5), ('\\n', 1), (' ', 7), ('%', 5), (' ', 9), ('%', 5), (' ', 29), ('%', 5), (' ', 9), ('%', 5), (' ', 6), ('\\n', 1), (' ', 8), ('%', 5), (' ', 10), ('%', 6), (' ', 24), ('%', 5), (' ', 10), ('%', 4), (' ', 8), ('\\n', 1), (' ', 10), ('%', 5), (' ', 11), ('%', 7), (' ', 15), ('%', 7), (' ', 11), ('%', 5), (' ', 9), ('\\n', 1), (' ', 12), ('%', 5), (' ', 13), ('%', 21), (' ', 13), ('%', 5), (' ', 11), ('\\n', 1), (' ', 14), ('%', 7), (' ', 40), ('%', 5), (' ', 14), ('\\n', 1), (' ', 17), ('%', 7), (' ', 33), ('%', 7), (' ', 16), ('\\n', 1), (' ', 21), ('%', 9), (' ', 21), ('%', 9), (' ', 20), ('\\n', 1), (' ', 26), ('%', 29), (' ', 25), ('\\n', 1), (' ', 35), ('%', 12), (' ', 33), ('\\n', 1)]\n"
     ]
    }
   ],
   "source": [
    "encodedString = encodeString(art)\n",
    "print(encodedString)"
   ]
  },
  {
   "cell_type": "code",
   "execution_count": null,
   "id": "942d4ff8",
   "metadata": {},
   "outputs": [
    {
     "data": {
      "text/plain": [
       "'                                                                                \\n                               %%%%%%%%%%%%%%%%%%%                              \\n                        %%%%%%%%%%%%%%%%%%%%%%%%%%%%%%%%%                       \\n                    %%%%%%%%                         %%%%%%%%                   \\n                %%%%%%%                                   %%%%%%                \\n              %%%%%%                                         %%%%%%             \\n           %%%%%%                                               %%%%%           \\n          %%%%%                                                   %%%%%         \\n        %%%%%                                                       %%%%%       \\n       %%%%                 %%%%%              %%%%%                  %%%%      \\n      %%%%                 %%%%%%%            %%%%%%%                  %%%%     \\n     %%%%                  %%%%%%%            %%%%%%%                   %%%%    \\n    %%%%                   %%%%%%%            %%%%%%%                    %%%%   \\n    %%%%                    %%%%%              %%%%%                     %%%%   \\n   %%%%                                                                   %%%%  \\n   %%%%                                                                   %%%%  \\n   %%%%                                                                   %%%%  \\n   %%%%                                                      %%%%        %%%%   \\n    %%%%       %%%%%%                                        %%%%%       %%%%   \\n    %%%%         %%%%                                       %%%%        %%%%    \\n     %%%%         %%%%                                     %%%%         %%%%    \\n      %%%%         %%%%%                                  %%%%         %%%%     \\n       %%%%%         %%%%%                             %%%%%         %%%%%      \\n        %%%%%          %%%%%%                        %%%%%          %%%%        \\n          %%%%%           %%%%%%%               %%%%%%%           %%%%%         \\n            %%%%%             %%%%%%%%%%%%%%%%%%%%%             %%%%%           \\n              %%%%%%%                                        %%%%%              \\n                 %%%%%%%                                 %%%%%%%                \\n                     %%%%%%%%%                     %%%%%%%%%                    \\n                          %%%%%%%%%%%%%%%%%%%%%%%%%%%%%                         \\n                                   %%%%%%%%%%%%                                 \\n'"
      ]
     },
     "execution_count": 37,
     "metadata": {},
     "output_type": "execute_result"
    }
   ],
   "source": [
    "decodeString(encodedString)\n"
   ]
  }
 ],
 "metadata": {
  "kernelspec": {
   "display_name": "Python 3",
   "language": "python",
   "name": "python3"
  },
  "language_info": {
   "codemirror_mode": {
    "name": "ipython",
    "version": 3
   },
   "file_extension": ".py",
   "mimetype": "text/x-python",
   "name": "python",
   "nbconvert_exporter": "python",
   "pygments_lexer": "ipython3",
   "version": "3.12.1"
  }
 },
 "nbformat": 4,
 "nbformat_minor": 5
}
